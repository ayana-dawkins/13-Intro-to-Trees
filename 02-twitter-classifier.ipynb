{
 "cells": [
  {
   "cell_type": "markdown",
   "metadata": {},
   "source": [
    "# Building a Classifier\n",
    "\n",
    "**GOALS**\n",
    "\n",
    "Build a Classifier that compares our classification methods in order to predict the individual who is tweeting: \n",
    "\n",
    "\n",
    "```\n",
    "@iamcardib\n",
    "@hillaryclinton\n",
    "@_yiannopoulos\n",
    "@thrashermag\n",
    "@fwmagazine\n",
    "```\n",
    "\n",
    "In order to do this, we will review the process of retrieving a tweet and building a dataframe from the text of the tweet.  From here, your goal is to\n",
    "\n",
    "1. Build a labeled dataframe containing at least 100 tweets from the five users.  \n",
    "2. Explore the top 5 retweeted tweets from each user, make a visualization, discuss\n",
    "3. Prepare the data for modeling using a `CountVectorizer` or `TfidfVectorizer`.  Remember to incorporate stop words and n-grams in your work.\n",
    "4. Use a `LogisticRegression` classifier to determine the user.  How did it perform?\n",
    "5. Use a `NaiveBayes` classifier to determine the user.  Did this do better?\n",
    "6. Use a `DecisionTreeClassifier` to model the tweets.  How did this compare to the other two methods?\n",
    "7. Build a table that compares the important information about these models.  \n",
    "8. Suppose your task is to verify whether or not another account was actually Milo all along.  Which model would you use?  Why?  "
   ]
  },
  {
   "cell_type": "code",
   "execution_count": 1,
   "metadata": {},
   "outputs": [],
   "source": [
    "#auth info"
   ]
  },
  {
   "cell_type": "code",
   "execution_count": 3,
   "metadata": {},
   "outputs": [],
   "source": [
    "consumer_key = '265HVBBk3OAaao7A9lNbMbOeJ'\n",
    "consumer_secret = 'wLoxodEQRmUKW0CXJHf91cY8MO54CAQVajYlLnu5rMika1Hi3F'\n",
    "access_token = '820718295187918848-wJOTVNX6mPOC9nRvL7rGy0meYOd7wh2'\n",
    "access_token_secret = 'Cwdn6slxRSznr2dETa7oEOKiANf9Gn2EFO7mrFXDprvRL'"
   ]
  },
  {
   "cell_type": "code",
   "execution_count": 6,
   "metadata": {},
   "outputs": [],
   "source": [
    "import tweepy\n",
    "import json\n",
    "from tweepy import OAuthHandler\n",
    "auth = OAuthHandler(consumer_key, consumer_secret)\n",
    "auth.set_access_token(access_token, access_token_secret)\n",
    " \n",
    "api = tweepy.API(auth)"
   ]
  },
  {
   "cell_type": "code",
   "execution_count": 7,
   "metadata": {},
   "outputs": [
    {
     "name": "stdout",
     "output_type": "stream",
     "text": [
      "6th grade Math at McAnally and I love all the staff!    They are supportive, collaborative and fun!!!!#aledomindsetstaffchat\n",
      "You wanna see a performance that we all gave 💯 💯 💯⁉️ Tune to #worldofdance this WEDNESDAY on our new night 8/7c for… https://t.co/F7cMb8JCkc\n",
      "I saw @TracyZager speak at #AddItUp18 and I’m super excited to squeeze in some last minute summer PD. It’s not too… https://t.co/9gBB8fYrDB\n",
      "New Release: NumPy 1.15.0 is a release with an unusual number of cleanups, many deprecations of old functions, and… https://t.co/ejPjgyDiB5\n",
      "RT @USGS_R: We surveyed the USGS-R community about skills beyond our intro class, and turned our response into a series of 5 blog posts cal…\n",
      "RT @TheRealHipHopEd: In the midst of everything that is going wrong in society let’s shine the brightest light possible of Brother LeBron J…\n",
      "RT @KLdivergence: If you are interested in the discussion that took place at the #JSM2018 panel on sexual misconduct but couldn’t make it,…\n",
      "RT @stephanietlane: Two features that advance someone in #datascience — adaptability and curiosity. Hard to teach but key for success. Laur…\n",
      "What’s the easiest way to efficiently grade math portfolios if they are done with Google Sites? Thinking of going (… https://t.co/inIaDOxHUL\n",
      "Spammers are rarely subtle but I kinda admire when they are. We had to fix an edge condition in @discourse where qu… https://t.co/ABcsEavH1B\n"
     ]
    }
   ],
   "source": [
    "for status in tweepy.Cursor(api.home_timeline).items(10):\n",
    "    # Process a single status\n",
    "    print(status.text)"
   ]
  },
  {
   "cell_type": "code",
   "execution_count": 8,
   "metadata": {},
   "outputs": [
    {
     "name": "stdout",
     "output_type": "stream",
     "text": [
      "{'created_at': 'Tue Jul 31 01:01:38 +0000 2018', 'id': 1024097721307815937, 'id_str': '1024097721307815937', 'text': '6th grade Math at McAnally and I love all the staff!    They are supportive, collaborative and fun!!!!#aledomindsetstaffchat', 'truncated': False, 'entities': {'hashtags': [{'text': 'aledomindsetstaffchat', 'indices': [102, 124]}], 'symbols': [], 'user_mentions': [], 'urls': []}, 'source': '<a href=\"http://twitter.com/download/iphone\" rel=\"nofollow\">Twitter for iPhone</a>', 'in_reply_to_status_id': None, 'in_reply_to_status_id_str': None, 'in_reply_to_user_id': None, 'in_reply_to_user_id_str': None, 'in_reply_to_screen_name': None, 'user': {'id': 3729713844, 'id_str': '3729713844', 'name': 'Michelle Johnson', 'screen_name': 'MrsJ_AledoMath', 'location': 'Aledo, TX', 'description': '6th grade Math in Bearcat Country!!!! Serving an awesome God!   Wife of an educator;  mom of OU ‘22 and an Aledo Bearcat ‘21', 'url': None, 'entities': {'description': {'urls': []}}, 'protected': False, 'followers_count': 246, 'friends_count': 301, 'listed_count': 14, 'created_at': 'Tue Sep 29 21:21:15 +0000 2015', 'favourites_count': 1734, 'utc_offset': None, 'time_zone': None, 'geo_enabled': True, 'verified': False, 'statuses_count': 772, 'lang': 'en', 'contributors_enabled': False, 'is_translator': False, 'is_translation_enabled': False, 'profile_background_color': '000000', 'profile_background_image_url': 'http://abs.twimg.com/images/themes/theme1/bg.png', 'profile_background_image_url_https': 'https://abs.twimg.com/images/themes/theme1/bg.png', 'profile_background_tile': False, 'profile_image_url': 'http://pbs.twimg.com/profile_images/786622739410882560/kTlzixN1_normal.jpg', 'profile_image_url_https': 'https://pbs.twimg.com/profile_images/786622739410882560/kTlzixN1_normal.jpg', 'profile_banner_url': 'https://pbs.twimg.com/profile_banners/3729713844/1504390365', 'profile_link_color': 'FAB81E', 'profile_sidebar_border_color': '000000', 'profile_sidebar_fill_color': '000000', 'profile_text_color': '000000', 'profile_use_background_image': False, 'has_extended_profile': True, 'default_profile': False, 'default_profile_image': False, 'following': True, 'follow_request_sent': False, 'notifications': False, 'translator_type': 'none'}, 'geo': None, 'coordinates': None, 'place': None, 'contributors': None, 'is_quote_status': False, 'retweet_count': 0, 'favorite_count': 2, 'favorited': False, 'retweeted': False, 'lang': 'en'}\n"
     ]
    }
   ],
   "source": [
    "for status in tweepy.Cursor(api.home_timeline).items(1):\n",
    "    # Process a single status\n",
    "    print(status._json)"
   ]
  },
  {
   "cell_type": "code",
   "execution_count": 9,
   "metadata": {},
   "outputs": [],
   "source": [
    "def process_or_store(tweet):\n",
    "    print(json.dumps(tweet))"
   ]
  },
  {
   "cell_type": "code",
   "execution_count": 11,
   "metadata": {},
   "outputs": [
    {
     "ename": "TweepError",
     "evalue": "Twitter error response: status code = 429",
     "output_type": "error",
     "traceback": [
      "\u001b[0;31m---------------------------------------------------------------------------\u001b[0m",
      "\u001b[0;31mTweepError\u001b[0m                                Traceback (most recent call last)",
      "\u001b[0;32m<ipython-input-11-d46a66e8327a>\u001b[0m in \u001b[0;36m<module>\u001b[0;34m()\u001b[0m\n\u001b[0;32m----> 1\u001b[0;31m \u001b[0;32mfor\u001b[0m \u001b[0mstatus\u001b[0m \u001b[0;32min\u001b[0m \u001b[0mtweepy\u001b[0m\u001b[0;34m.\u001b[0m\u001b[0mCursor\u001b[0m\u001b[0;34m(\u001b[0m\u001b[0mapi\u001b[0m\u001b[0;34m.\u001b[0m\u001b[0mhome_timeline\u001b[0m\u001b[0;34m)\u001b[0m\u001b[0;34m.\u001b[0m\u001b[0mitems\u001b[0m\u001b[0;34m(\u001b[0m\u001b[0;36m1\u001b[0m\u001b[0;34m)\u001b[0m\u001b[0;34m:\u001b[0m\u001b[0;34m\u001b[0m\u001b[0m\n\u001b[0m\u001b[1;32m      2\u001b[0m     \u001b[0mprint\u001b[0m\u001b[0;34m(\u001b[0m\u001b[0mstatus\u001b[0m\u001b[0;34m)\u001b[0m\u001b[0;34m\u001b[0m\u001b[0m\n",
      "\u001b[0;32m~/anaconda3/lib/python3.6/site-packages/tweepy/cursor.py\u001b[0m in \u001b[0;36m__next__\u001b[0;34m(self)\u001b[0m\n\u001b[1;32m     47\u001b[0m \u001b[0;34m\u001b[0m\u001b[0m\n\u001b[1;32m     48\u001b[0m     \u001b[0;32mdef\u001b[0m \u001b[0m__next__\u001b[0m\u001b[0;34m(\u001b[0m\u001b[0mself\u001b[0m\u001b[0;34m)\u001b[0m\u001b[0;34m:\u001b[0m\u001b[0;34m\u001b[0m\u001b[0m\n\u001b[0;32m---> 49\u001b[0;31m         \u001b[0;32mreturn\u001b[0m \u001b[0mself\u001b[0m\u001b[0;34m.\u001b[0m\u001b[0mnext\u001b[0m\u001b[0;34m(\u001b[0m\u001b[0;34m)\u001b[0m\u001b[0;34m\u001b[0m\u001b[0m\n\u001b[0m\u001b[1;32m     50\u001b[0m \u001b[0;34m\u001b[0m\u001b[0m\n\u001b[1;32m     51\u001b[0m     \u001b[0;32mdef\u001b[0m \u001b[0mnext\u001b[0m\u001b[0;34m(\u001b[0m\u001b[0mself\u001b[0m\u001b[0;34m)\u001b[0m\u001b[0;34m:\u001b[0m\u001b[0;34m\u001b[0m\u001b[0m\n",
      "\u001b[0;32m~/anaconda3/lib/python3.6/site-packages/tweepy/cursor.py\u001b[0m in \u001b[0;36mnext\u001b[0;34m(self)\u001b[0m\n\u001b[1;32m    195\u001b[0m         \u001b[0;32mif\u001b[0m \u001b[0mself\u001b[0m\u001b[0;34m.\u001b[0m\u001b[0mcurrent_page\u001b[0m \u001b[0;32mis\u001b[0m \u001b[0;32mNone\u001b[0m \u001b[0;32mor\u001b[0m \u001b[0mself\u001b[0m\u001b[0;34m.\u001b[0m\u001b[0mpage_index\u001b[0m \u001b[0;34m==\u001b[0m \u001b[0mlen\u001b[0m\u001b[0;34m(\u001b[0m\u001b[0mself\u001b[0m\u001b[0;34m.\u001b[0m\u001b[0mcurrent_page\u001b[0m\u001b[0;34m)\u001b[0m \u001b[0;34m-\u001b[0m \u001b[0;36m1\u001b[0m\u001b[0;34m:\u001b[0m\u001b[0;34m\u001b[0m\u001b[0m\n\u001b[1;32m    196\u001b[0m             \u001b[0;31m# Reached end of current page, get the next page...\u001b[0m\u001b[0;34m\u001b[0m\u001b[0;34m\u001b[0m\u001b[0m\n\u001b[0;32m--> 197\u001b[0;31m             \u001b[0mself\u001b[0m\u001b[0;34m.\u001b[0m\u001b[0mcurrent_page\u001b[0m \u001b[0;34m=\u001b[0m \u001b[0mself\u001b[0m\u001b[0;34m.\u001b[0m\u001b[0mpage_iterator\u001b[0m\u001b[0;34m.\u001b[0m\u001b[0mnext\u001b[0m\u001b[0;34m(\u001b[0m\u001b[0;34m)\u001b[0m\u001b[0;34m\u001b[0m\u001b[0m\n\u001b[0m\u001b[1;32m    198\u001b[0m             \u001b[0mself\u001b[0m\u001b[0;34m.\u001b[0m\u001b[0mpage_index\u001b[0m \u001b[0;34m=\u001b[0m \u001b[0;34m-\u001b[0m\u001b[0;36m1\u001b[0m\u001b[0;34m\u001b[0m\u001b[0m\n\u001b[1;32m    199\u001b[0m         \u001b[0mself\u001b[0m\u001b[0;34m.\u001b[0m\u001b[0mpage_index\u001b[0m \u001b[0;34m+=\u001b[0m \u001b[0;36m1\u001b[0m\u001b[0;34m\u001b[0m\u001b[0m\n",
      "\u001b[0;32m~/anaconda3/lib/python3.6/site-packages/tweepy/cursor.py\u001b[0m in \u001b[0;36mnext\u001b[0;34m(self)\u001b[0m\n\u001b[1;32m    106\u001b[0m \u001b[0;34m\u001b[0m\u001b[0m\n\u001b[1;32m    107\u001b[0m         \u001b[0;32mif\u001b[0m \u001b[0mself\u001b[0m\u001b[0;34m.\u001b[0m\u001b[0mindex\u001b[0m \u001b[0;34m>=\u001b[0m \u001b[0mlen\u001b[0m\u001b[0;34m(\u001b[0m\u001b[0mself\u001b[0m\u001b[0;34m.\u001b[0m\u001b[0mresults\u001b[0m\u001b[0;34m)\u001b[0m \u001b[0;34m-\u001b[0m \u001b[0;36m1\u001b[0m\u001b[0;34m:\u001b[0m\u001b[0;34m\u001b[0m\u001b[0m\n\u001b[0;32m--> 108\u001b[0;31m             \u001b[0mdata\u001b[0m \u001b[0;34m=\u001b[0m \u001b[0mself\u001b[0m\u001b[0;34m.\u001b[0m\u001b[0mmethod\u001b[0m\u001b[0;34m(\u001b[0m\u001b[0mmax_id\u001b[0m\u001b[0;34m=\u001b[0m\u001b[0mself\u001b[0m\u001b[0;34m.\u001b[0m\u001b[0mmax_id\u001b[0m\u001b[0;34m,\u001b[0m \u001b[0mparser\u001b[0m\u001b[0;34m=\u001b[0m\u001b[0mRawParser\u001b[0m\u001b[0;34m(\u001b[0m\u001b[0;34m)\u001b[0m\u001b[0;34m,\u001b[0m \u001b[0;34m*\u001b[0m\u001b[0mself\u001b[0m\u001b[0;34m.\u001b[0m\u001b[0margs\u001b[0m\u001b[0;34m,\u001b[0m \u001b[0;34m**\u001b[0m\u001b[0mself\u001b[0m\u001b[0;34m.\u001b[0m\u001b[0mkargs\u001b[0m\u001b[0;34m)\u001b[0m\u001b[0;34m\u001b[0m\u001b[0m\n\u001b[0m\u001b[1;32m    109\u001b[0m \u001b[0;34m\u001b[0m\u001b[0m\n\u001b[1;32m    110\u001b[0m             \u001b[0;32mif\u001b[0m \u001b[0mhasattr\u001b[0m\u001b[0;34m(\u001b[0m\u001b[0mself\u001b[0m\u001b[0;34m.\u001b[0m\u001b[0mmethod\u001b[0m\u001b[0;34m,\u001b[0m \u001b[0;34m'__self__'\u001b[0m\u001b[0;34m)\u001b[0m\u001b[0;34m:\u001b[0m\u001b[0;34m\u001b[0m\u001b[0m\n",
      "\u001b[0;32m~/anaconda3/lib/python3.6/site-packages/tweepy/binder.py\u001b[0m in \u001b[0;36m_call\u001b[0;34m(*args, **kwargs)\u001b[0m\n\u001b[1;32m    248\u001b[0m             \u001b[0;32mreturn\u001b[0m \u001b[0mmethod\u001b[0m\u001b[0;34m\u001b[0m\u001b[0m\n\u001b[1;32m    249\u001b[0m         \u001b[0;32melse\u001b[0m\u001b[0;34m:\u001b[0m\u001b[0;34m\u001b[0m\u001b[0m\n\u001b[0;32m--> 250\u001b[0;31m             \u001b[0;32mreturn\u001b[0m \u001b[0mmethod\u001b[0m\u001b[0;34m.\u001b[0m\u001b[0mexecute\u001b[0m\u001b[0;34m(\u001b[0m\u001b[0;34m)\u001b[0m\u001b[0;34m\u001b[0m\u001b[0m\n\u001b[0m\u001b[1;32m    251\u001b[0m \u001b[0;34m\u001b[0m\u001b[0m\n\u001b[1;32m    252\u001b[0m     \u001b[0;31m# Set pagination mode\u001b[0m\u001b[0;34m\u001b[0m\u001b[0;34m\u001b[0m\u001b[0m\n",
      "\u001b[0;32m~/anaconda3/lib/python3.6/site-packages/tweepy/binder.py\u001b[0m in \u001b[0;36mexecute\u001b[0;34m(self)\u001b[0m\n\u001b[1;32m    232\u001b[0m                     \u001b[0;32mraise\u001b[0m \u001b[0mRateLimitError\u001b[0m\u001b[0;34m(\u001b[0m\u001b[0merror_msg\u001b[0m\u001b[0;34m,\u001b[0m \u001b[0mresp\u001b[0m\u001b[0;34m)\u001b[0m\u001b[0;34m\u001b[0m\u001b[0m\n\u001b[1;32m    233\u001b[0m                 \u001b[0;32melse\u001b[0m\u001b[0;34m:\u001b[0m\u001b[0;34m\u001b[0m\u001b[0m\n\u001b[0;32m--> 234\u001b[0;31m                     \u001b[0;32mraise\u001b[0m \u001b[0mTweepError\u001b[0m\u001b[0;34m(\u001b[0m\u001b[0merror_msg\u001b[0m\u001b[0;34m,\u001b[0m \u001b[0mresp\u001b[0m\u001b[0;34m,\u001b[0m \u001b[0mapi_code\u001b[0m\u001b[0;34m=\u001b[0m\u001b[0mapi_error_code\u001b[0m\u001b[0;34m)\u001b[0m\u001b[0;34m\u001b[0m\u001b[0m\n\u001b[0m\u001b[1;32m    235\u001b[0m \u001b[0;34m\u001b[0m\u001b[0m\n\u001b[1;32m    236\u001b[0m             \u001b[0;31m# Parse the response payload\u001b[0m\u001b[0;34m\u001b[0m\u001b[0;34m\u001b[0m\u001b[0m\n",
      "\u001b[0;31mTweepError\u001b[0m: Twitter error response: status code = 429"
     ]
    }
   ],
   "source": [
    "for status in tweepy.Cursor(api.home_timeline).items(1):\n",
    "    print(status)"
   ]
  },
  {
   "cell_type": "code",
   "execution_count": 12,
   "metadata": {},
   "outputs": [
    {
     "name": "stdout",
     "output_type": "stream",
     "text": [
      "Status(_api=<tweepy.api.API object at 0x10a86d128>, _json={'created_at': 'Fri Jul 27 22:40:58 +0000 2018', 'id': 1022975158536097792, 'id_str': '1022975158536097792', 'text': 'Such a pleasure seeing @BetteMidler back where she belongs! Huge thanks to the cast and crew of @HelloDollyBway for… https://t.co/eSxSVjMh7I', 'truncated': True, 'entities': {'hashtags': [], 'symbols': [], 'user_mentions': [{'screen_name': 'BetteMidler', 'name': 'Bette Midler', 'id': 139823781, 'id_str': '139823781', 'indices': [23, 35]}, {'screen_name': 'HelloDollyBway', 'name': 'Hello, Dolly!', 'id': 4785031154, 'id_str': '4785031154', 'indices': [96, 111]}], 'urls': [{'url': 'https://t.co/eSxSVjMh7I', 'expanded_url': 'https://twitter.com/i/web/status/1022975158536097792', 'display_url': 'twitter.com/i/web/status/1…', 'indices': [117, 140]}]}, 'source': '<a href=\"http://twitter.com\" rel=\"nofollow\">Twitter Web Client</a>', 'in_reply_to_status_id': None, 'in_reply_to_status_id_str': None, 'in_reply_to_user_id': None, 'in_reply_to_user_id_str': None, 'in_reply_to_screen_name': None, 'user': {'id': 1339835893, 'id_str': '1339835893', 'name': 'Hillary Clinton', 'screen_name': 'HillaryClinton', 'location': 'New York, NY', 'description': '2016 Democratic Nominee, SecState, Senator, hair icon. Mom, Wife, Grandma x2, lawyer, advocate, fan of walks in the woods & standing up for our democracy.', 'url': 'https://t.co/99DVW9q1yt', 'entities': {'url': {'urls': [{'url': 'https://t.co/99DVW9q1yt', 'expanded_url': 'http://onwardtogether.org', 'display_url': 'onwardtogether.org', 'indices': [0, 23]}]}, 'description': {'urls': []}}, 'protected': False, 'followers_count': 23157229, 'friends_count': 771, 'listed_count': 40585, 'created_at': 'Tue Apr 09 18:04:35 +0000 2013', 'favourites_count': 1148, 'utc_offset': None, 'time_zone': None, 'geo_enabled': True, 'verified': True, 'statuses_count': 10181, 'lang': 'en', 'contributors_enabled': False, 'is_translator': False, 'is_translation_enabled': False, 'profile_background_color': '0057B8', 'profile_background_image_url': 'http://abs.twimg.com/images/themes/theme1/bg.png', 'profile_background_image_url_https': 'https://abs.twimg.com/images/themes/theme1/bg.png', 'profile_background_tile': False, 'profile_image_url': 'http://pbs.twimg.com/profile_images/839938827837976576/leN1zJJx_normal.jpg', 'profile_image_url_https': 'https://pbs.twimg.com/profile_images/839938827837976576/leN1zJJx_normal.jpg', 'profile_banner_url': 'https://pbs.twimg.com/profile_banners/1339835893/1476893928', 'profile_link_color': '0057B8', 'profile_sidebar_border_color': '000000', 'profile_sidebar_fill_color': '000000', 'profile_text_color': '000000', 'profile_use_background_image': False, 'has_extended_profile': True, 'default_profile': False, 'default_profile_image': False, 'following': False, 'follow_request_sent': False, 'notifications': False, 'translator_type': 'none'}, 'geo': None, 'coordinates': None, 'place': None, 'contributors': None, 'is_quote_status': True, 'quoted_status_id': 1022899775958642688, 'quoted_status_id_str': '1022899775958642688', 'quoted_status': {'created_at': 'Fri Jul 27 17:41:25 +0000 2018', 'id': 1022899775958642688, 'id_str': '1022899775958642688', 'text': 'What a night @HillaryClinton !! A thrill of a lifetime!\\n 📷 Bruce Glikas for @HelloDollyBway https://t.co/ugJf6xcGD8', 'truncated': False, 'entities': {'hashtags': [], 'symbols': [], 'user_mentions': [{'screen_name': 'HillaryClinton', 'name': 'Hillary Clinton', 'id': 1339835893, 'id_str': '1339835893', 'indices': [13, 28]}, {'screen_name': 'HelloDollyBway', 'name': 'Hello, Dolly!', 'id': 4785031154, 'id_str': '4785031154', 'indices': [76, 91]}], 'urls': [], 'media': [{'id': 1022899290480361472, 'id_str': '1022899290480361472', 'indices': [92, 115], 'media_url': 'http://pbs.twimg.com/media/DjIRfDIUwAAeuK3.jpg', 'media_url_https': 'https://pbs.twimg.com/media/DjIRfDIUwAAeuK3.jpg', 'url': 'https://t.co/ugJf6xcGD8', 'display_url': 'pic.twitter.com/ugJf6xcGD8', 'expanded_url': 'https://twitter.com/BetteMidler/status/1022899775958642688/photo/1', 'type': 'photo', 'sizes': {'large': {'w': 640, 'h': 640, 'resize': 'fit'}, 'thumb': {'w': 150, 'h': 150, 'resize': 'crop'}, 'small': {'w': 640, 'h': 640, 'resize': 'fit'}, 'medium': {'w': 640, 'h': 640, 'resize': 'fit'}}}]}, 'extended_entities': {'media': [{'id': 1022899290480361472, 'id_str': '1022899290480361472', 'indices': [92, 115], 'media_url': 'http://pbs.twimg.com/media/DjIRfDIUwAAeuK3.jpg', 'media_url_https': 'https://pbs.twimg.com/media/DjIRfDIUwAAeuK3.jpg', 'url': 'https://t.co/ugJf6xcGD8', 'display_url': 'pic.twitter.com/ugJf6xcGD8', 'expanded_url': 'https://twitter.com/BetteMidler/status/1022899775958642688/photo/1', 'type': 'photo', 'sizes': {'large': {'w': 640, 'h': 640, 'resize': 'fit'}, 'thumb': {'w': 150, 'h': 150, 'resize': 'crop'}, 'small': {'w': 640, 'h': 640, 'resize': 'fit'}, 'medium': {'w': 640, 'h': 640, 'resize': 'fit'}}}]}, 'source': '<a href=\"http://twitter.com\" rel=\"nofollow\">Twitter Web Client</a>', 'in_reply_to_status_id': None, 'in_reply_to_status_id_str': None, 'in_reply_to_user_id': None, 'in_reply_to_user_id_str': None, 'in_reply_to_screen_name': None, 'user': {'id': 139823781, 'id_str': '139823781', 'name': 'Bette Midler', 'screen_name': 'BetteMidler', 'location': 'New York, NY', 'description': 'And the darkest hour is just before dawn.', 'url': 'https://t.co/7ODxSaP5Lc', 'entities': {'url': {'urls': [{'url': 'https://t.co/7ODxSaP5Lc', 'expanded_url': 'http://BetteMidler.com', 'display_url': 'BetteMidler.com', 'indices': [0, 23]}]}, 'description': {'urls': []}}, 'protected': False, 'followers_count': 1416242, 'friends_count': 61, 'listed_count': 7783, 'created_at': 'Mon May 03 20:00:36 +0000 2010', 'favourites_count': 302, 'utc_offset': None, 'time_zone': None, 'geo_enabled': True, 'verified': True, 'statuses_count': 8885, 'lang': 'en', 'contributors_enabled': False, 'is_translator': False, 'is_translation_enabled': False, 'profile_background_color': 'FFFFFF', 'profile_background_image_url': 'http://abs.twimg.com/images/themes/theme1/bg.png', 'profile_background_image_url_https': 'https://abs.twimg.com/images/themes/theme1/bg.png', 'profile_background_tile': False, 'profile_image_url': 'http://pbs.twimg.com/profile_images/1004964783974690817/t8-JFMsI_normal.jpg', 'profile_image_url_https': 'https://pbs.twimg.com/profile_images/1004964783974690817/t8-JFMsI_normal.jpg', 'profile_banner_url': 'https://pbs.twimg.com/profile_banners/139823781/1528437233', 'profile_link_color': 'F5ABB5', 'profile_sidebar_border_color': 'FFFFFF', 'profile_sidebar_fill_color': 'DDEEF6', 'profile_text_color': '333333', 'profile_use_background_image': True, 'has_extended_profile': False, 'default_profile': False, 'default_profile_image': False, 'following': False, 'follow_request_sent': False, 'notifications': False, 'translator_type': 'none'}, 'geo': None, 'coordinates': None, 'place': None, 'contributors': None, 'is_quote_status': False, 'retweet_count': 3211, 'favorite_count': 25826, 'favorited': False, 'retweeted': False, 'possibly_sensitive': False, 'lang': 'en'}, 'retweet_count': 5717, 'favorite_count': 49707, 'favorited': False, 'retweeted': False, 'possibly_sensitive': False, 'lang': 'en'}, created_at=datetime.datetime(2018, 7, 27, 22, 40, 58), id=1022975158536097792, id_str='1022975158536097792', text='Such a pleasure seeing @BetteMidler back where she belongs! Huge thanks to the cast and crew of @HelloDollyBway for… https://t.co/eSxSVjMh7I', truncated=True, entities={'hashtags': [], 'symbols': [], 'user_mentions': [{'screen_name': 'BetteMidler', 'name': 'Bette Midler', 'id': 139823781, 'id_str': '139823781', 'indices': [23, 35]}, {'screen_name': 'HelloDollyBway', 'name': 'Hello, Dolly!', 'id': 4785031154, 'id_str': '4785031154', 'indices': [96, 111]}], 'urls': [{'url': 'https://t.co/eSxSVjMh7I', 'expanded_url': 'https://twitter.com/i/web/status/1022975158536097792', 'display_url': 'twitter.com/i/web/status/1…', 'indices': [117, 140]}]}, source='Twitter Web Client', source_url='http://twitter.com', in_reply_to_status_id=None, in_reply_to_status_id_str=None, in_reply_to_user_id=None, in_reply_to_user_id_str=None, in_reply_to_screen_name=None, author=User(_api=<tweepy.api.API object at 0x10a86d128>, _json={'id': 1339835893, 'id_str': '1339835893', 'name': 'Hillary Clinton', 'screen_name': 'HillaryClinton', 'location': 'New York, NY', 'description': '2016 Democratic Nominee, SecState, Senator, hair icon. Mom, Wife, Grandma x2, lawyer, advocate, fan of walks in the woods & standing up for our democracy.', 'url': 'https://t.co/99DVW9q1yt', 'entities': {'url': {'urls': [{'url': 'https://t.co/99DVW9q1yt', 'expanded_url': 'http://onwardtogether.org', 'display_url': 'onwardtogether.org', 'indices': [0, 23]}]}, 'description': {'urls': []}}, 'protected': False, 'followers_count': 23157229, 'friends_count': 771, 'listed_count': 40585, 'created_at': 'Tue Apr 09 18:04:35 +0000 2013', 'favourites_count': 1148, 'utc_offset': None, 'time_zone': None, 'geo_enabled': True, 'verified': True, 'statuses_count': 10181, 'lang': 'en', 'contributors_enabled': False, 'is_translator': False, 'is_translation_enabled': False, 'profile_background_color': '0057B8', 'profile_background_image_url': 'http://abs.twimg.com/images/themes/theme1/bg.png', 'profile_background_image_url_https': 'https://abs.twimg.com/images/themes/theme1/bg.png', 'profile_background_tile': False, 'profile_image_url': 'http://pbs.twimg.com/profile_images/839938827837976576/leN1zJJx_normal.jpg', 'profile_image_url_https': 'https://pbs.twimg.com/profile_images/839938827837976576/leN1zJJx_normal.jpg', 'profile_banner_url': 'https://pbs.twimg.com/profile_banners/1339835893/1476893928', 'profile_link_color': '0057B8', 'profile_sidebar_border_color': '000000', 'profile_sidebar_fill_color': '000000', 'profile_text_color': '000000', 'profile_use_background_image': False, 'has_extended_profile': True, 'default_profile': False, 'default_profile_image': False, 'following': False, 'follow_request_sent': False, 'notifications': False, 'translator_type': 'none'}, id=1339835893, id_str='1339835893', name='Hillary Clinton', screen_name='HillaryClinton', location='New York, NY', description='2016 Democratic Nominee, SecState, Senator, hair icon. Mom, Wife, Grandma x2, lawyer, advocate, fan of walks in the woods & standing up for our democracy.', url='https://t.co/99DVW9q1yt', entities={'url': {'urls': [{'url': 'https://t.co/99DVW9q1yt', 'expanded_url': 'http://onwardtogether.org', 'display_url': 'onwardtogether.org', 'indices': [0, 23]}]}, 'description': {'urls': []}}, protected=False, followers_count=23157229, friends_count=771, listed_count=40585, created_at=datetime.datetime(2013, 4, 9, 18, 4, 35), favourites_count=1148, utc_offset=None, time_zone=None, geo_enabled=True, verified=True, statuses_count=10181, lang='en', contributors_enabled=False, is_translator=False, is_translation_enabled=False, profile_background_color='0057B8', profile_background_image_url='http://abs.twimg.com/images/themes/theme1/bg.png', profile_background_image_url_https='https://abs.twimg.com/images/themes/theme1/bg.png', profile_background_tile=False, profile_image_url='http://pbs.twimg.com/profile_images/839938827837976576/leN1zJJx_normal.jpg', profile_image_url_https='https://pbs.twimg.com/profile_images/839938827837976576/leN1zJJx_normal.jpg', profile_banner_url='https://pbs.twimg.com/profile_banners/1339835893/1476893928', profile_link_color='0057B8', profile_sidebar_border_color='000000', profile_sidebar_fill_color='000000', profile_text_color='000000', profile_use_background_image=False, has_extended_profile=True, default_profile=False, default_profile_image=False, following=False, follow_request_sent=False, notifications=False, translator_type='none'), user=User(_api=<tweepy.api.API object at 0x10a86d128>, _json={'id': 1339835893, 'id_str': '1339835893', 'name': 'Hillary Clinton', 'screen_name': 'HillaryClinton', 'location': 'New York, NY', 'description': '2016 Democratic Nominee, SecState, Senator, hair icon. Mom, Wife, Grandma x2, lawyer, advocate, fan of walks in the woods & standing up for our democracy.', 'url': 'https://t.co/99DVW9q1yt', 'entities': {'url': {'urls': [{'url': 'https://t.co/99DVW9q1yt', 'expanded_url': 'http://onwardtogether.org', 'display_url': 'onwardtogether.org', 'indices': [0, 23]}]}, 'description': {'urls': []}}, 'protected': False, 'followers_count': 23157229, 'friends_count': 771, 'listed_count': 40585, 'created_at': 'Tue Apr 09 18:04:35 +0000 2013', 'favourites_count': 1148, 'utc_offset': None, 'time_zone': None, 'geo_enabled': True, 'verified': True, 'statuses_count': 10181, 'lang': 'en', 'contributors_enabled': False, 'is_translator': False, 'is_translation_enabled': False, 'profile_background_color': '0057B8', 'profile_background_image_url': 'http://abs.twimg.com/images/themes/theme1/bg.png', 'profile_background_image_url_https': 'https://abs.twimg.com/images/themes/theme1/bg.png', 'profile_background_tile': False, 'profile_image_url': 'http://pbs.twimg.com/profile_images/839938827837976576/leN1zJJx_normal.jpg', 'profile_image_url_https': 'https://pbs.twimg.com/profile_images/839938827837976576/leN1zJJx_normal.jpg', 'profile_banner_url': 'https://pbs.twimg.com/profile_banners/1339835893/1476893928', 'profile_link_color': '0057B8', 'profile_sidebar_border_color': '000000', 'profile_sidebar_fill_color': '000000', 'profile_text_color': '000000', 'profile_use_background_image': False, 'has_extended_profile': True, 'default_profile': False, 'default_profile_image': False, 'following': False, 'follow_request_sent': False, 'notifications': False, 'translator_type': 'none'}, id=1339835893, id_str='1339835893', name='Hillary Clinton', screen_name='HillaryClinton', location='New York, NY', description='2016 Democratic Nominee, SecState, Senator, hair icon. Mom, Wife, Grandma x2, lawyer, advocate, fan of walks in the woods & standing up for our democracy.', url='https://t.co/99DVW9q1yt', entities={'url': {'urls': [{'url': 'https://t.co/99DVW9q1yt', 'expanded_url': 'http://onwardtogether.org', 'display_url': 'onwardtogether.org', 'indices': [0, 23]}]}, 'description': {'urls': []}}, protected=False, followers_count=23157229, friends_count=771, listed_count=40585, created_at=datetime.datetime(2013, 4, 9, 18, 4, 35), favourites_count=1148, utc_offset=None, time_zone=None, geo_enabled=True, verified=True, statuses_count=10181, lang='en', contributors_enabled=False, is_translator=False, is_translation_enabled=False, profile_background_color='0057B8', profile_background_image_url='http://abs.twimg.com/images/themes/theme1/bg.png', profile_background_image_url_https='https://abs.twimg.com/images/themes/theme1/bg.png', profile_background_tile=False, profile_image_url='http://pbs.twimg.com/profile_images/839938827837976576/leN1zJJx_normal.jpg', profile_image_url_https='https://pbs.twimg.com/profile_images/839938827837976576/leN1zJJx_normal.jpg', profile_banner_url='https://pbs.twimg.com/profile_banners/1339835893/1476893928', profile_link_color='0057B8', profile_sidebar_border_color='000000', profile_sidebar_fill_color='000000', profile_text_color='000000', profile_use_background_image=False, has_extended_profile=True, default_profile=False, default_profile_image=False, following=False, follow_request_sent=False, notifications=False, translator_type='none'), geo=None, coordinates=None, place=None, contributors=None, is_quote_status=True, quoted_status_id=1022899775958642688, quoted_status_id_str='1022899775958642688', quoted_status=Status(_api=<tweepy.api.API object at 0x10a86d128>, _json={'created_at': 'Fri Jul 27 17:41:25 +0000 2018', 'id': 1022899775958642688, 'id_str': '1022899775958642688', 'text': 'What a night @HillaryClinton !! A thrill of a lifetime!\\n 📷 Bruce Glikas for @HelloDollyBway https://t.co/ugJf6xcGD8', 'truncated': False, 'entities': {'hashtags': [], 'symbols': [], 'user_mentions': [{'screen_name': 'HillaryClinton', 'name': 'Hillary Clinton', 'id': 1339835893, 'id_str': '1339835893', 'indices': [13, 28]}, {'screen_name': 'HelloDollyBway', 'name': 'Hello, Dolly!', 'id': 4785031154, 'id_str': '4785031154', 'indices': [76, 91]}], 'urls': [], 'media': [{'id': 1022899290480361472, 'id_str': '1022899290480361472', 'indices': [92, 115], 'media_url': 'http://pbs.twimg.com/media/DjIRfDIUwAAeuK3.jpg', 'media_url_https': 'https://pbs.twimg.com/media/DjIRfDIUwAAeuK3.jpg', 'url': 'https://t.co/ugJf6xcGD8', 'display_url': 'pic.twitter.com/ugJf6xcGD8', 'expanded_url': 'https://twitter.com/BetteMidler/status/1022899775958642688/photo/1', 'type': 'photo', 'sizes': {'large': {'w': 640, 'h': 640, 'resize': 'fit'}, 'thumb': {'w': 150, 'h': 150, 'resize': 'crop'}, 'small': {'w': 640, 'h': 640, 'resize': 'fit'}, 'medium': {'w': 640, 'h': 640, 'resize': 'fit'}}}]}, 'extended_entities': {'media': [{'id': 1022899290480361472, 'id_str': '1022899290480361472', 'indices': [92, 115], 'media_url': 'http://pbs.twimg.com/media/DjIRfDIUwAAeuK3.jpg', 'media_url_https': 'https://pbs.twimg.com/media/DjIRfDIUwAAeuK3.jpg', 'url': 'https://t.co/ugJf6xcGD8', 'display_url': 'pic.twitter.com/ugJf6xcGD8', 'expanded_url': 'https://twitter.com/BetteMidler/status/1022899775958642688/photo/1', 'type': 'photo', 'sizes': {'large': {'w': 640, 'h': 640, 'resize': 'fit'}, 'thumb': {'w': 150, 'h': 150, 'resize': 'crop'}, 'small': {'w': 640, 'h': 640, 'resize': 'fit'}, 'medium': {'w': 640, 'h': 640, 'resize': 'fit'}}}]}, 'source': '<a href=\"http://twitter.com\" rel=\"nofollow\">Twitter Web Client</a>', 'in_reply_to_status_id': None, 'in_reply_to_status_id_str': None, 'in_reply_to_user_id': None, 'in_reply_to_user_id_str': None, 'in_reply_to_screen_name': None, 'user': {'id': 139823781, 'id_str': '139823781', 'name': 'Bette Midler', 'screen_name': 'BetteMidler', 'location': 'New York, NY', 'description': 'And the darkest hour is just before dawn.', 'url': 'https://t.co/7ODxSaP5Lc', 'entities': {'url': {'urls': [{'url': 'https://t.co/7ODxSaP5Lc', 'expanded_url': 'http://BetteMidler.com', 'display_url': 'BetteMidler.com', 'indices': [0, 23]}]}, 'description': {'urls': []}}, 'protected': False, 'followers_count': 1416242, 'friends_count': 61, 'listed_count': 7783, 'created_at': 'Mon May 03 20:00:36 +0000 2010', 'favourites_count': 302, 'utc_offset': None, 'time_zone': None, 'geo_enabled': True, 'verified': True, 'statuses_count': 8885, 'lang': 'en', 'contributors_enabled': False, 'is_translator': False, 'is_translation_enabled': False, 'profile_background_color': 'FFFFFF', 'profile_background_image_url': 'http://abs.twimg.com/images/themes/theme1/bg.png', 'profile_background_image_url_https': 'https://abs.twimg.com/images/themes/theme1/bg.png', 'profile_background_tile': False, 'profile_image_url': 'http://pbs.twimg.com/profile_images/1004964783974690817/t8-JFMsI_normal.jpg', 'profile_image_url_https': 'https://pbs.twimg.com/profile_images/1004964783974690817/t8-JFMsI_normal.jpg', 'profile_banner_url': 'https://pbs.twimg.com/profile_banners/139823781/1528437233', 'profile_link_color': 'F5ABB5', 'profile_sidebar_border_color': 'FFFFFF', 'profile_sidebar_fill_color': 'DDEEF6', 'profile_text_color': '333333', 'profile_use_background_image': True, 'has_extended_profile': False, 'default_profile': False, 'default_profile_image': False, 'following': False, 'follow_request_sent': False, 'notifications': False, 'translator_type': 'none'}, 'geo': None, 'coordinates': None, 'place': None, 'contributors': None, 'is_quote_status': False, 'retweet_count': 3211, 'favorite_count': 25826, 'favorited': False, 'retweeted': False, 'possibly_sensitive': False, 'lang': 'en'}, created_at=datetime.datetime(2018, 7, 27, 17, 41, 25), id=1022899775958642688, id_str='1022899775958642688', text='What a night @HillaryClinton !! A thrill of a lifetime!\\n 📷 Bruce Glikas for @HelloDollyBway https://t.co/ugJf6xcGD8', truncated=False, entities={'hashtags': [], 'symbols': [], 'user_mentions': [{'screen_name': 'HillaryClinton', 'name': 'Hillary Clinton', 'id': 1339835893, 'id_str': '1339835893', 'indices': [13, 28]}, {'screen_name': 'HelloDollyBway', 'name': 'Hello, Dolly!', 'id': 4785031154, 'id_str': '4785031154', 'indices': [76, 91]}], 'urls': [], 'media': [{'id': 1022899290480361472, 'id_str': '1022899290480361472', 'indices': [92, 115], 'media_url': 'http://pbs.twimg.com/media/DjIRfDIUwAAeuK3.jpg', 'media_url_https': 'https://pbs.twimg.com/media/DjIRfDIUwAAeuK3.jpg', 'url': 'https://t.co/ugJf6xcGD8', 'display_url': 'pic.twitter.com/ugJf6xcGD8', 'expanded_url': 'https://twitter.com/BetteMidler/status/1022899775958642688/photo/1', 'type': 'photo', 'sizes': {'large': {'w': 640, 'h': 640, 'resize': 'fit'}, 'thumb': {'w': 150, 'h': 150, 'resize': 'crop'}, 'small': {'w': 640, 'h': 640, 'resize': 'fit'}, 'medium': {'w': 640, 'h': 640, 'resize': 'fit'}}}]}, extended_entities={'media': [{'id': 1022899290480361472, 'id_str': '1022899290480361472', 'indices': [92, 115], 'media_url': 'http://pbs.twimg.com/media/DjIRfDIUwAAeuK3.jpg', 'media_url_https': 'https://pbs.twimg.com/media/DjIRfDIUwAAeuK3.jpg', 'url': 'https://t.co/ugJf6xcGD8', 'display_url': 'pic.twitter.com/ugJf6xcGD8', 'expanded_url': 'https://twitter.com/BetteMidler/status/1022899775958642688/photo/1', 'type': 'photo', 'sizes': {'large': {'w': 640, 'h': 640, 'resize': 'fit'}, 'thumb': {'w': 150, 'h': 150, 'resize': 'crop'}, 'small': {'w': 640, 'h': 640, 'resize': 'fit'}, 'medium': {'w': 640, 'h': 640, 'resize': 'fit'}}}]}, source='Twitter Web Client', source_url='http://twitter.com', in_reply_to_status_id=None, in_reply_to_status_id_str=None, in_reply_to_user_id=None, in_reply_to_user_id_str=None, in_reply_to_screen_name=None, author=User(_api=<tweepy.api.API object at 0x10a86d128>, _json={'id': 139823781, 'id_str': '139823781', 'name': 'Bette Midler', 'screen_name': 'BetteMidler', 'location': 'New York, NY', 'description': 'And the darkest hour is just before dawn.', 'url': 'https://t.co/7ODxSaP5Lc', 'entities': {'url': {'urls': [{'url': 'https://t.co/7ODxSaP5Lc', 'expanded_url': 'http://BetteMidler.com', 'display_url': 'BetteMidler.com', 'indices': [0, 23]}]}, 'description': {'urls': []}}, 'protected': False, 'followers_count': 1416242, 'friends_count': 61, 'listed_count': 7783, 'created_at': 'Mon May 03 20:00:36 +0000 2010', 'favourites_count': 302, 'utc_offset': None, 'time_zone': None, 'geo_enabled': True, 'verified': True, 'statuses_count': 8885, 'lang': 'en', 'contributors_enabled': False, 'is_translator': False, 'is_translation_enabled': False, 'profile_background_color': 'FFFFFF', 'profile_background_image_url': 'http://abs.twimg.com/images/themes/theme1/bg.png', 'profile_background_image_url_https': 'https://abs.twimg.com/images/themes/theme1/bg.png', 'profile_background_tile': False, 'profile_image_url': 'http://pbs.twimg.com/profile_images/1004964783974690817/t8-JFMsI_normal.jpg', 'profile_image_url_https': 'https://pbs.twimg.com/profile_images/1004964783974690817/t8-JFMsI_normal.jpg', 'profile_banner_url': 'https://pbs.twimg.com/profile_banners/139823781/1528437233', 'profile_link_color': 'F5ABB5', 'profile_sidebar_border_color': 'FFFFFF', 'profile_sidebar_fill_color': 'DDEEF6', 'profile_text_color': '333333', 'profile_use_background_image': True, 'has_extended_profile': False, 'default_profile': False, 'default_profile_image': False, 'following': False, 'follow_request_sent': False, 'notifications': False, 'translator_type': 'none'}, id=139823781, id_str='139823781', name='Bette Midler', screen_name='BetteMidler', location='New York, NY', description='And the darkest hour is just before dawn.', url='https://t.co/7ODxSaP5Lc', entities={'url': {'urls': [{'url': 'https://t.co/7ODxSaP5Lc', 'expanded_url': 'http://BetteMidler.com', 'display_url': 'BetteMidler.com', 'indices': [0, 23]}]}, 'description': {'urls': []}}, protected=False, followers_count=1416242, friends_count=61, listed_count=7783, created_at=datetime.datetime(2010, 5, 3, 20, 0, 36), favourites_count=302, utc_offset=None, time_zone=None, geo_enabled=True, verified=True, statuses_count=8885, lang='en', contributors_enabled=False, is_translator=False, is_translation_enabled=False, profile_background_color='FFFFFF', profile_background_image_url='http://abs.twimg.com/images/themes/theme1/bg.png', profile_background_image_url_https='https://abs.twimg.com/images/themes/theme1/bg.png', profile_background_tile=False, profile_image_url='http://pbs.twimg.com/profile_images/1004964783974690817/t8-JFMsI_normal.jpg', profile_image_url_https='https://pbs.twimg.com/profile_images/1004964783974690817/t8-JFMsI_normal.jpg', profile_banner_url='https://pbs.twimg.com/profile_banners/139823781/1528437233', profile_link_color='F5ABB5', profile_sidebar_border_color='FFFFFF', profile_sidebar_fill_color='DDEEF6', profile_text_color='333333', profile_use_background_image=True, has_extended_profile=False, default_profile=False, default_profile_image=False, following=False, follow_request_sent=False, notifications=False, translator_type='none'), user=User(_api=<tweepy.api.API object at 0x10a86d128>, _json={'id': 139823781, 'id_str': '139823781', 'name': 'Bette Midler', 'screen_name': 'BetteMidler', 'location': 'New York, NY', 'description': 'And the darkest hour is just before dawn.', 'url': 'https://t.co/7ODxSaP5Lc', 'entities': {'url': {'urls': [{'url': 'https://t.co/7ODxSaP5Lc', 'expanded_url': 'http://BetteMidler.com', 'display_url': 'BetteMidler.com', 'indices': [0, 23]}]}, 'description': {'urls': []}}, 'protected': False, 'followers_count': 1416242, 'friends_count': 61, 'listed_count': 7783, 'created_at': 'Mon May 03 20:00:36 +0000 2010', 'favourites_count': 302, 'utc_offset': None, 'time_zone': None, 'geo_enabled': True, 'verified': True, 'statuses_count': 8885, 'lang': 'en', 'contributors_enabled': False, 'is_translator': False, 'is_translation_enabled': False, 'profile_background_color': 'FFFFFF', 'profile_background_image_url': 'http://abs.twimg.com/images/themes/theme1/bg.png', 'profile_background_image_url_https': 'https://abs.twimg.com/images/themes/theme1/bg.png', 'profile_background_tile': False, 'profile_image_url': 'http://pbs.twimg.com/profile_images/1004964783974690817/t8-JFMsI_normal.jpg', 'profile_image_url_https': 'https://pbs.twimg.com/profile_images/1004964783974690817/t8-JFMsI_normal.jpg', 'profile_banner_url': 'https://pbs.twimg.com/profile_banners/139823781/1528437233', 'profile_link_color': 'F5ABB5', 'profile_sidebar_border_color': 'FFFFFF', 'profile_sidebar_fill_color': 'DDEEF6', 'profile_text_color': '333333', 'profile_use_background_image': True, 'has_extended_profile': False, 'default_profile': False, 'default_profile_image': False, 'following': False, 'follow_request_sent': False, 'notifications': False, 'translator_type': 'none'}, id=139823781, id_str='139823781', name='Bette Midler', screen_name='BetteMidler', location='New York, NY', description='And the darkest hour is just before dawn.', url='https://t.co/7ODxSaP5Lc', entities={'url': {'urls': [{'url': 'https://t.co/7ODxSaP5Lc', 'expanded_url': 'http://BetteMidler.com', 'display_url': 'BetteMidler.com', 'indices': [0, 23]}]}, 'description': {'urls': []}}, protected=False, followers_count=1416242, friends_count=61, listed_count=7783, created_at=datetime.datetime(2010, 5, 3, 20, 0, 36), favourites_count=302, utc_offset=None, time_zone=None, geo_enabled=True, verified=True, statuses_count=8885, lang='en', contributors_enabled=False, is_translator=False, is_translation_enabled=False, profile_background_color='FFFFFF', profile_background_image_url='http://abs.twimg.com/images/themes/theme1/bg.png', profile_background_image_url_https='https://abs.twimg.com/images/themes/theme1/bg.png', profile_background_tile=False, profile_image_url='http://pbs.twimg.com/profile_images/1004964783974690817/t8-JFMsI_normal.jpg', profile_image_url_https='https://pbs.twimg.com/profile_images/1004964783974690817/t8-JFMsI_normal.jpg', profile_banner_url='https://pbs.twimg.com/profile_banners/139823781/1528437233', profile_link_color='F5ABB5', profile_sidebar_border_color='FFFFFF', profile_sidebar_fill_color='DDEEF6', profile_text_color='333333', profile_use_background_image=True, has_extended_profile=False, default_profile=False, default_profile_image=False, following=False, follow_request_sent=False, notifications=False, translator_type='none'), geo=None, coordinates=None, place=None, contributors=None, is_quote_status=False, retweet_count=3211, favorite_count=25826, favorited=False, retweeted=False, possibly_sensitive=False, lang='en'), retweet_count=5717, favorite_count=49707, favorited=False, retweeted=False, possibly_sensitive=False, lang='en')\n"
     ]
    }
   ],
   "source": [
    "for tweet in tweepy.Cursor(api.user_timeline, id = \"hillaryclinton\").items(1):\n",
    "    print(tweet)"
   ]
  },
  {
   "cell_type": "code",
   "execution_count": 13,
   "metadata": {},
   "outputs": [
    {
     "name": "stdout",
     "output_type": "stream",
     "text": [
      "Such a pleasure seeing @BetteMidler back where she belongs! Huge thanks to the cast and crew of @HelloDollyBway for… https://t.co/eSxSVjMh7I\n"
     ]
    }
   ],
   "source": [
    "for tweet in tweepy.Cursor(api.user_timeline, id = \"hillaryclinton\").items(1):\n",
    "    print(tweet._json['text'])"
   ]
  },
  {
   "cell_type": "code",
   "execution_count": 14,
   "metadata": {},
   "outputs": [
    {
     "name": "stdout",
     "output_type": "stream",
     "text": [
      "\"Such a pleasure seeing @BetteMidler back where she belongs! Huge thanks to the cast and crew of @HelloDollyBway for\\u2026 https://t.co/eSxSVjMh7I\"\n"
     ]
    }
   ],
   "source": [
    "for tweet in tweepy.Cursor(api.user_timeline, id = \"hillaryclinton\").items(1):\n",
    "    print(json.dumps(tweet._json['text']))"
   ]
  },
  {
   "cell_type": "code",
   "execution_count": 15,
   "metadata": {},
   "outputs": [
    {
     "name": "stdout",
     "output_type": "stream",
     "text": [
      "{\"created_at\": \"Fri Jul 27 22:40:58 +0000 2018\", \"id\": 1022975158536097792, \"id_str\": \"1022975158536097792\", \"text\": \"Such a pleasure seeing @BetteMidler back where she belongs! Huge thanks to the cast and crew of @HelloDollyBway for\\u2026 https://t.co/eSxSVjMh7I\", \"truncated\": true, \"entities\": {\"hashtags\": [], \"symbols\": [], \"user_mentions\": [{\"screen_name\": \"BetteMidler\", \"name\": \"Bette Midler\", \"id\": 139823781, \"id_str\": \"139823781\", \"indices\": [23, 35]}, {\"screen_name\": \"HelloDollyBway\", \"name\": \"Hello, Dolly!\", \"id\": 4785031154, \"id_str\": \"4785031154\", \"indices\": [96, 111]}], \"urls\": [{\"url\": \"https://t.co/eSxSVjMh7I\", \"expanded_url\": \"https://twitter.com/i/web/status/1022975158536097792\", \"display_url\": \"twitter.com/i/web/status/1\\u2026\", \"indices\": [117, 140]}]}, \"source\": \"<a href=\\\"http://twitter.com\\\" rel=\\\"nofollow\\\">Twitter Web Client</a>\", \"in_reply_to_status_id\": null, \"in_reply_to_status_id_str\": null, \"in_reply_to_user_id\": null, \"in_reply_to_user_id_str\": null, \"in_reply_to_screen_name\": null, \"user\": {\"id\": 1339835893, \"id_str\": \"1339835893\", \"name\": \"Hillary Clinton\", \"screen_name\": \"HillaryClinton\", \"location\": \"New York, NY\", \"description\": \"2016 Democratic Nominee, SecState, Senator, hair icon. Mom, Wife, Grandma x2, lawyer, advocate, fan of walks in the woods & standing up for our democracy.\", \"url\": \"https://t.co/99DVW9q1yt\", \"entities\": {\"url\": {\"urls\": [{\"url\": \"https://t.co/99DVW9q1yt\", \"expanded_url\": \"http://onwardtogether.org\", \"display_url\": \"onwardtogether.org\", \"indices\": [0, 23]}]}, \"description\": {\"urls\": []}}, \"protected\": false, \"followers_count\": 23157231, \"friends_count\": 771, \"listed_count\": 40585, \"created_at\": \"Tue Apr 09 18:04:35 +0000 2013\", \"favourites_count\": 1148, \"utc_offset\": null, \"time_zone\": null, \"geo_enabled\": true, \"verified\": true, \"statuses_count\": 10181, \"lang\": \"en\", \"contributors_enabled\": false, \"is_translator\": false, \"is_translation_enabled\": false, \"profile_background_color\": \"0057B8\", \"profile_background_image_url\": \"http://abs.twimg.com/images/themes/theme1/bg.png\", \"profile_background_image_url_https\": \"https://abs.twimg.com/images/themes/theme1/bg.png\", \"profile_background_tile\": false, \"profile_image_url\": \"http://pbs.twimg.com/profile_images/839938827837976576/leN1zJJx_normal.jpg\", \"profile_image_url_https\": \"https://pbs.twimg.com/profile_images/839938827837976576/leN1zJJx_normal.jpg\", \"profile_banner_url\": \"https://pbs.twimg.com/profile_banners/1339835893/1476893928\", \"profile_link_color\": \"0057B8\", \"profile_sidebar_border_color\": \"000000\", \"profile_sidebar_fill_color\": \"000000\", \"profile_text_color\": \"000000\", \"profile_use_background_image\": false, \"has_extended_profile\": true, \"default_profile\": false, \"default_profile_image\": false, \"following\": false, \"follow_request_sent\": false, \"notifications\": false, \"translator_type\": \"none\"}, \"geo\": null, \"coordinates\": null, \"place\": null, \"contributors\": null, \"is_quote_status\": true, \"quoted_status_id\": 1022899775958642688, \"quoted_status_id_str\": \"1022899775958642688\", \"quoted_status\": {\"created_at\": \"Fri Jul 27 17:41:25 +0000 2018\", \"id\": 1022899775958642688, \"id_str\": \"1022899775958642688\", \"text\": \"What a night @HillaryClinton !! A thrill of a lifetime!\\n \\ud83d\\udcf7 Bruce Glikas for @HelloDollyBway https://t.co/ugJf6xcGD8\", \"truncated\": false, \"entities\": {\"hashtags\": [], \"symbols\": [], \"user_mentions\": [{\"screen_name\": \"HillaryClinton\", \"name\": \"Hillary Clinton\", \"id\": 1339835893, \"id_str\": \"1339835893\", \"indices\": [13, 28]}, {\"screen_name\": \"HelloDollyBway\", \"name\": \"Hello, Dolly!\", \"id\": 4785031154, \"id_str\": \"4785031154\", \"indices\": [76, 91]}], \"urls\": [], \"media\": [{\"id\": 1022899290480361472, \"id_str\": \"1022899290480361472\", \"indices\": [92, 115], \"media_url\": \"http://pbs.twimg.com/media/DjIRfDIUwAAeuK3.jpg\", \"media_url_https\": \"https://pbs.twimg.com/media/DjIRfDIUwAAeuK3.jpg\", \"url\": \"https://t.co/ugJf6xcGD8\", \"display_url\": \"pic.twitter.com/ugJf6xcGD8\", \"expanded_url\": \"https://twitter.com/BetteMidler/status/1022899775958642688/photo/1\", \"type\": \"photo\", \"sizes\": {\"large\": {\"w\": 640, \"h\": 640, \"resize\": \"fit\"}, \"thumb\": {\"w\": 150, \"h\": 150, \"resize\": \"crop\"}, \"small\": {\"w\": 640, \"h\": 640, \"resize\": \"fit\"}, \"medium\": {\"w\": 640, \"h\": 640, \"resize\": \"fit\"}}}]}, \"extended_entities\": {\"media\": [{\"id\": 1022899290480361472, \"id_str\": \"1022899290480361472\", \"indices\": [92, 115], \"media_url\": \"http://pbs.twimg.com/media/DjIRfDIUwAAeuK3.jpg\", \"media_url_https\": \"https://pbs.twimg.com/media/DjIRfDIUwAAeuK3.jpg\", \"url\": \"https://t.co/ugJf6xcGD8\", \"display_url\": \"pic.twitter.com/ugJf6xcGD8\", \"expanded_url\": \"https://twitter.com/BetteMidler/status/1022899775958642688/photo/1\", \"type\": \"photo\", \"sizes\": {\"large\": {\"w\": 640, \"h\": 640, \"resize\": \"fit\"}, \"thumb\": {\"w\": 150, \"h\": 150, \"resize\": \"crop\"}, \"small\": {\"w\": 640, \"h\": 640, \"resize\": \"fit\"}, \"medium\": {\"w\": 640, \"h\": 640, \"resize\": \"fit\"}}}]}, \"source\": \"<a href=\\\"http://twitter.com\\\" rel=\\\"nofollow\\\">Twitter Web Client</a>\", \"in_reply_to_status_id\": null, \"in_reply_to_status_id_str\": null, \"in_reply_to_user_id\": null, \"in_reply_to_user_id_str\": null, \"in_reply_to_screen_name\": null, \"user\": {\"id\": 139823781, \"id_str\": \"139823781\", \"name\": \"Bette Midler\", \"screen_name\": \"BetteMidler\", \"location\": \"New York, NY\", \"description\": \"And the darkest hour is just before dawn.\", \"url\": \"https://t.co/7ODxSaP5Lc\", \"entities\": {\"url\": {\"urls\": [{\"url\": \"https://t.co/7ODxSaP5Lc\", \"expanded_url\": \"http://BetteMidler.com\", \"display_url\": \"BetteMidler.com\", \"indices\": [0, 23]}]}, \"description\": {\"urls\": []}}, \"protected\": false, \"followers_count\": 1416242, \"friends_count\": 61, \"listed_count\": 7783, \"created_at\": \"Mon May 03 20:00:36 +0000 2010\", \"favourites_count\": 302, \"utc_offset\": null, \"time_zone\": null, \"geo_enabled\": true, \"verified\": true, \"statuses_count\": 8885, \"lang\": \"en\", \"contributors_enabled\": false, \"is_translator\": false, \"is_translation_enabled\": false, \"profile_background_color\": \"FFFFFF\", \"profile_background_image_url\": \"http://abs.twimg.com/images/themes/theme1/bg.png\", \"profile_background_image_url_https\": \"https://abs.twimg.com/images/themes/theme1/bg.png\", \"profile_background_tile\": false, \"profile_image_url\": \"http://pbs.twimg.com/profile_images/1004964783974690817/t8-JFMsI_normal.jpg\", \"profile_image_url_https\": \"https://pbs.twimg.com/profile_images/1004964783974690817/t8-JFMsI_normal.jpg\", \"profile_banner_url\": \"https://pbs.twimg.com/profile_banners/139823781/1528437233\", \"profile_link_color\": \"F5ABB5\", \"profile_sidebar_border_color\": \"FFFFFF\", \"profile_sidebar_fill_color\": \"DDEEF6\", \"profile_text_color\": \"333333\", \"profile_use_background_image\": true, \"has_extended_profile\": false, \"default_profile\": false, \"default_profile_image\": false, \"following\": false, \"follow_request_sent\": false, \"notifications\": false, \"translator_type\": \"none\"}, \"geo\": null, \"coordinates\": null, \"place\": null, \"contributors\": null, \"is_quote_status\": false, \"retweet_count\": 3211, \"favorite_count\": 25826, \"favorited\": false, \"retweeted\": false, \"possibly_sensitive\": false, \"lang\": \"en\"}, \"retweet_count\": 5717, \"favorite_count\": 49707, \"favorited\": false, \"retweeted\": false, \"possibly_sensitive\": false, \"lang\": \"en\"}\n"
     ]
    }
   ],
   "source": [
    "for tweet in tweepy.Cursor(api.user_timeline, id = \"hillaryclinton\").items(1):\n",
    "    print(json.dumps(tweet._json))"
   ]
  },
  {
   "cell_type": "code",
   "execution_count": 16,
   "metadata": {},
   "outputs": [
    {
     "name": "stdout",
     "output_type": "stream",
     "text": [
      "dict_keys(['created_at', 'id', 'id_str', 'text', 'truncated', 'entities', 'source', 'in_reply_to_status_id', 'in_reply_to_status_id_str', 'in_reply_to_user_id', 'in_reply_to_user_id_str', 'in_reply_to_screen_name', 'user', 'geo', 'coordinates', 'place', 'contributors', 'is_quote_status', 'quoted_status_id', 'quoted_status_id_str', 'quoted_status', 'retweet_count', 'favorite_count', 'favorited', 'retweeted', 'possibly_sensitive', 'lang'])\n"
     ]
    }
   ],
   "source": [
    "for tweet in tweepy.Cursor(api.user_timeline, id = \"hillaryclinton\").items(1):\n",
    "    print((tweet._json.keys()))"
   ]
  },
  {
   "cell_type": "code",
   "execution_count": 17,
   "metadata": {},
   "outputs": [],
   "source": [
    "tweets = []\n",
    "retweets = []\n",
    "user = []\n",
    "for tweet in tweepy.Cursor(api.user_timeline, id = \"hillaryclinton\").items(2000):\n",
    "    tweets.append(tweet._json['text'])\n",
    "    retweets.append(tweet._json['retweet_count'])\n",
    "    user.append(tweet._json['user']['screen_name'])"
   ]
  },
  {
   "cell_type": "code",
   "execution_count": 18,
   "metadata": {},
   "outputs": [
    {
     "data": {
      "text/html": [
       "<div>\n",
       "<style scoped>\n",
       "    .dataframe tbody tr th:only-of-type {\n",
       "        vertical-align: middle;\n",
       "    }\n",
       "\n",
       "    .dataframe tbody tr th {\n",
       "        vertical-align: top;\n",
       "    }\n",
       "\n",
       "    .dataframe thead th {\n",
       "        text-align: right;\n",
       "    }\n",
       "</style>\n",
       "<table border=\"1\" class=\"dataframe\">\n",
       "  <thead>\n",
       "    <tr style=\"text-align: right;\">\n",
       "      <th></th>\n",
       "      <th>tweets</th>\n",
       "      <th>retweets</th>\n",
       "      <th>user</th>\n",
       "    </tr>\n",
       "  </thead>\n",
       "  <tbody>\n",
       "    <tr>\n",
       "      <th>0</th>\n",
       "      <td>Such a pleasure seeing @BetteMidler back where...</td>\n",
       "      <td>5717</td>\n",
       "      <td>HillaryClinton</td>\n",
       "    </tr>\n",
       "    <tr>\n",
       "      <th>1</th>\n",
       "      <td>Yesterday was the court-ordered deadline for t...</td>\n",
       "      <td>18965</td>\n",
       "      <td>HillaryClinton</td>\n",
       "    </tr>\n",
       "    <tr>\n",
       "      <th>2</th>\n",
       "      <td>From mother to activist to candidate - congrat...</td>\n",
       "      <td>7944</td>\n",
       "      <td>HillaryClinton</td>\n",
       "    </tr>\n",
       "    <tr>\n",
       "      <th>3</th>\n",
       "      <td>It was wonderful to spend some time with the t...</td>\n",
       "      <td>7514</td>\n",
       "      <td>HillaryClinton</td>\n",
       "    </tr>\n",
       "    <tr>\n",
       "      <th>4</th>\n",
       "      <td>RT @domesticworkers: Miles de niños y niñas si...</td>\n",
       "      <td>590</td>\n",
       "      <td>HillaryClinton</td>\n",
       "    </tr>\n",
       "  </tbody>\n",
       "</table>\n",
       "</div>"
      ],
      "text/plain": [
       "                                              tweets  retweets            user\n",
       "0  Such a pleasure seeing @BetteMidler back where...      5717  HillaryClinton\n",
       "1  Yesterday was the court-ordered deadline for t...     18965  HillaryClinton\n",
       "2  From mother to activist to candidate - congrat...      7944  HillaryClinton\n",
       "3  It was wonderful to spend some time with the t...      7514  HillaryClinton\n",
       "4  RT @domesticworkers: Miles de niños y niñas si...       590  HillaryClinton"
      ]
     },
     "execution_count": 18,
     "metadata": {},
     "output_type": "execute_result"
    }
   ],
   "source": [
    "import pandas as pd\n",
    "df = pd.DataFrame({'tweets': tweets, 'retweets': retweets, 'user': user})\n",
    "df.head()"
   ]
  },
  {
   "cell_type": "code",
   "execution_count": 19,
   "metadata": {},
   "outputs": [],
   "source": [
    "tweets = []\n",
    "retweets = []\n",
    "user = []\n",
    "for tweet in tweepy.Cursor(api.user_timeline, id = \"iamcardib\").items(2000):\n",
    "    tweets.append(tweet._json['text'])\n",
    "    retweets.append(tweet._json['retweet_count'])\n",
    "    user.append(tweet._json['user']['screen_name'])"
   ]
  },
  {
   "cell_type": "code",
   "execution_count": 20,
   "metadata": {},
   "outputs": [
    {
     "data": {
      "text/html": [
       "<div>\n",
       "<style scoped>\n",
       "    .dataframe tbody tr th:only-of-type {\n",
       "        vertical-align: middle;\n",
       "    }\n",
       "\n",
       "    .dataframe tbody tr th {\n",
       "        vertical-align: top;\n",
       "    }\n",
       "\n",
       "    .dataframe thead th {\n",
       "        text-align: right;\n",
       "    }\n",
       "</style>\n",
       "<table border=\"1\" class=\"dataframe\">\n",
       "  <thead>\n",
       "    <tr style=\"text-align: right;\">\n",
       "      <th></th>\n",
       "      <th>tweets</th>\n",
       "      <th>retweets</th>\n",
       "      <th>user</th>\n",
       "    </tr>\n",
       "  </thead>\n",
       "  <tbody>\n",
       "    <tr>\n",
       "      <th>0</th>\n",
       "      <td>Mood https://t.co/burVuT9Apz</td>\n",
       "      <td>10834</td>\n",
       "      <td>iamcardib</td>\n",
       "    </tr>\n",
       "    <tr>\n",
       "      <th>1</th>\n",
       "      <td>@CardiMila__ 😎</td>\n",
       "      <td>16</td>\n",
       "      <td>iamcardib</td>\n",
       "    </tr>\n",
       "    <tr>\n",
       "      <th>2</th>\n",
       "      <td>I got a baby i need some money shieeettt i nee...</td>\n",
       "      <td>1051</td>\n",
       "      <td>iamcardib</td>\n",
       "    </tr>\n",
       "    <tr>\n",
       "      <th>3</th>\n",
       "      <td>DO YOU SMELL WHAT CARDI IS COOKING ?</td>\n",
       "      <td>2747</td>\n",
       "      <td>iamcardib</td>\n",
       "    </tr>\n",
       "    <tr>\n",
       "      <th>4</th>\n",
       "      <td>People love doubting you then when you hit the...</td>\n",
       "      <td>2021</td>\n",
       "      <td>iamcardib</td>\n",
       "    </tr>\n",
       "  </tbody>\n",
       "</table>\n",
       "</div>"
      ],
      "text/plain": [
       "                                              tweets  retweets       user\n",
       "0                       Mood https://t.co/burVuT9Apz     10834  iamcardib\n",
       "1                                     @CardiMila__ 😎        16  iamcardib\n",
       "2  I got a baby i need some money shieeettt i nee...      1051  iamcardib\n",
       "3               DO YOU SMELL WHAT CARDI IS COOKING ?      2747  iamcardib\n",
       "4  People love doubting you then when you hit the...      2021  iamcardib"
      ]
     },
     "execution_count": 20,
     "metadata": {},
     "output_type": "execute_result"
    }
   ],
   "source": [
    "import pandas as pd\n",
    "df = pd.DataFrame({'tweets': tweets, 'retweets': retweets, 'user': user})\n",
    "df.head()"
   ]
  },
  {
   "cell_type": "markdown",
   "metadata": {},
   "source": [
    "### To Do\n",
    "\n",
    "- Write a function that takes in usernames and tweet number, and returns a `DataFrame` with the appropriate number of tweets, labeled user, tweet body, retweets, and geo location information.\n",
    "- Explore top retweets\n",
    "- Prepare for `sklearn`\n",
    "- Classification Models"
   ]
  },
  {
   "cell_type": "markdown",
   "metadata": {},
   "source": [
    "### - After the dataframe has been appended...use tfidf to do a fit transform --> input into to predict which words would be predictors for hillary or cardi b"
   ]
  },
  {
   "cell_type": "code",
   "execution_count": 21,
   "metadata": {},
   "outputs": [],
   "source": [
    "from sklearn.feature_extraction.text import TfidfVectorizer"
   ]
  },
  {
   "cell_type": "code",
   "execution_count": 23,
   "metadata": {},
   "outputs": [],
   "source": [
    "tfidf = TfidfVectorizer(stop_words='english', ngram_range=(1,3))"
   ]
  },
  {
   "cell_type": "code",
   "execution_count": null,
   "metadata": {},
   "outputs": [],
   "source": []
  },
  {
   "cell_type": "code",
   "execution_count": null,
   "metadata": {},
   "outputs": [],
   "source": []
  },
  {
   "cell_type": "code",
   "execution_count": null,
   "metadata": {},
   "outputs": [],
   "source": []
  }
 ],
 "metadata": {
  "kernelspec": {
   "display_name": "Python 3",
   "language": "python",
   "name": "python3"
  },
  "language_info": {
   "codemirror_mode": {
    "name": "ipython",
    "version": 3
   },
   "file_extension": ".py",
   "mimetype": "text/x-python",
   "name": "python",
   "nbconvert_exporter": "python",
   "pygments_lexer": "ipython3",
   "version": "3.6.5"
  }
 },
 "nbformat": 4,
 "nbformat_minor": 2
}
